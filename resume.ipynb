{
 "cells": [
  {
   "cell_type": "markdown",
   "metadata": {},
   "source": [
    "### 个人简介\n",
    "* 姓名: 黄培松\n",
    "* 性别: 男\n",
    "* github: [bringtree的github](https://github.com/bringtree/) / [记录了平时遇到的一些问题的博客](https://github.com/bringtree/question_embedding/issues)\n",
    "* 研究方向：人机对话(词向量修正,意图分类,对话管理)\n",
    "\n",
    "### 学习/工作情况\n",
    "* 2018.11 - 现在: CVTE中央研究院-nlp实习生\n",
    "* 2018.3 - 现在: SIGSDS实验室\n",
    "* 2016.9 - 2020.7: 华南农业大学-本科生\n",
    "* 2017.3 - 2017.10: 红满堂工作室-web开发\n",
    "\n",
    "### 比赛经历\n",
    "* 2018.5-2018.7中文人机对话技术评测用户意图领域分类比赛**(排名:4/8)**.最后提交的模型Attention-LSTM.主要是在词向量做了一些特征的补充.\n",
    "* 2018.4-2018.5 NLPCC 2018 共享任务4子任务2意图识别**(排名:4/195)**(前三是搜狗,北京大学,CVTE.).最后由于数据集的标签很多会依赖到上文的句子,所以最后提交的模型是HierarchicalAttentionNetwork.\n",
    "\n",
    "### 项目经历\n",
    "* 2018.12-现在: 目前在CVTE中央研究院 计划在年前优化完线上问答机器人(微信公众号:希沃学院)的性能(主要是:用户反馈的解决率). 主要是使用decomposable_attention网络.\n",
    "* 2018.11-2018.12: 在CVTE中央研究院 根据文本描述(内容是描述工作计划, 标签是(合格/不合格),)做二分类任务, 将文本的fn(即合格被误判成不合格) 降低到符合上线的要求. 减轻了人事部门的被投诉的次数(因为如果合格误判成不合格 会被投诉). 主要做法是:设置分类的阀值和修改最后一层softmax的改为 $ y_{i} = softmax(x-u_{i} , u_{i}) $. ($x$是上一层的输入,$u_{i}$是全连接对应类别的向量).\n",
    "* 2018.7-2018.11:引入LDA主题模型来改善LSTM注意力机制的相关研究(论文第一作者，目前论文刚刚投上去不久,要2月份才知道结果(ICASSP 2019 CCF B类)。编写了一个可视化attention的页面,方便样例分析.[attention热力图](https://github.com/bringtree/attention_visual_heatmap).\n",
    "* 2018.4-2018.6 基于可靠词汇语义约束的词语向量表达修正研究(论文第三作者，将第一作者的想法转换为代码实现，论文被CCL录用(CCL-18-066)。) 主要思路:是借助外在的词典来解决词向量同义词和反义词在维度上比较相似的问题.\n",
    "   (期间曾将估计计算量>1个月的代码优化到<1天):1.使用pyflame分析耗时长的地方,优化做缓存;2.将代码改为多进程;3.将代码的余弦计算改成可以用numpy大批量计算;4另外为做分析时能够随机调用词向量出来查看,利用grpc写了快速取词向量出来的脚本(将每次需要查看个词向量都需要预加载好几分钟的时间压缩的几秒).\n",
    "* 2017.3-2017.9: 期间主要在做web开发.使用Koa+Vue开发学校团委的实时投票系统(背景:因为需要现场投票表决,参与投票人数很多，需要大量志愿者反复确认计票)和重构一个angular编写的森林防火的web应用."
   ]
  }
 ],
 "metadata": {
  "kernelspec": {
   "display_name": "Python 3",
   "language": "python",
   "name": "python3"
  },
  "language_info": {
   "codemirror_mode": {
    "name": "ipython",
    "version": 3
   },
   "file_extension": ".py",
   "mimetype": "text/x-python",
   "name": "python",
   "nbconvert_exporter": "python",
   "pygments_lexer": "ipython3",
   "version": "3.6.5"
  }
 },
 "nbformat": 4,
 "nbformat_minor": 2
}
